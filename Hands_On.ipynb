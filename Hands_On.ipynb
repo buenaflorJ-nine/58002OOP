{
  "nbformat": 4,
  "nbformat_minor": 0,
  "metadata": {
    "colab": {
      "provenance": [],
      "authorship_tag": "ABX9TyMpw/K4tu9oDKf2RoEbU+c/",
      "include_colab_link": true
    },
    "kernelspec": {
      "name": "python3",
      "display_name": "Python 3"
    },
    "language_info": {
      "name": "python"
    }
  },
  "cells": [
    {
      "cell_type": "markdown",
      "metadata": {
        "id": "view-in-github",
        "colab_type": "text"
      },
      "source": [
        "<a href=\"https://colab.research.google.com/github/buenaflorJ-nine/58002OOP/blob/main/Hands_On.ipynb\" target=\"_parent\"><img src=\"https://colab.research.google.com/assets/colab-badge.svg\" alt=\"Open In Colab\"/></a>"
      ]
    },
    {
      "cell_type": "markdown",
      "source": [
        "Hands on"
      ],
      "metadata": {
        "id": "Zgq_fbbd-Hz1"
      }
    },
    {
      "cell_type": "markdown",
      "source": [],
      "metadata": {
        "id": "tY615HGi-Xjz"
      }
    },
    {
      "cell_type": "code",
      "execution_count": 35,
      "metadata": {
        "colab": {
          "base_uri": "https://localhost:8080/"
        },
        "id": "GrjndFtu6Fv_",
        "outputId": "b27229aa-8824-42da-9500-ba93e06f40d4"
      },
      "outputs": [
        {
          "output_type": "stream",
          "name": "stdout",
          "text": [
            "Student no. 1 has an average of: 86.0\n",
            "Student no. 2 has an average of: 87.67\n",
            "Student no. 3 has an average of: 81.33\n"
          ]
        }
      ],
      "source": [
        "class Person:\n",
        "  def __init__(self,std,pre,mid,fin):\n",
        "    self.__std = std\n",
        "    self.__pre = pre\n",
        "    self.__mid = mid\n",
        "    self.__fin = fin\n",
        "  \n",
        "  def std1_grade(self):\n",
        "      print(f\"Student no. {self.__std} has an average of:\", round((self.__pre + self.__mid +self.__fin)/3,2))  \n",
        "  def std2_grade(self):\n",
        "      print(f\"Student no. {self.__std} has an average of:\", round((self.__pre + self.__mid +self.__fin)/3,2)) \n",
        "  def std3_grade(self):\n",
        "      print(f\"Student no. {self.__std} has an average of:\", round((self.__pre + self.__mid +self.__fin)/3,2))     \n",
        "\n",
        "class Student1(Person):\n",
        "  pass\n",
        "class Student2(Person):\n",
        "  pass\n",
        "class Student3(Person):\n",
        "  pass\n",
        "\n",
        "student1 = Student1(1, 89, 90, 79)\n",
        "student2 = Student2(2, 78, 88, 97)\n",
        "student3 = Student3(3, 87, 87, 70)\n",
        "\n",
        "student1.std1_grade()\n",
        "student2.std2_grade()\n",
        "student3.std3_grade()\n",
        "\n"
      ]
    },
    {
      "cell_type": "code",
      "source": [
        "class Shapes:\n",
        "  def __init__(self,side1,side2):\n",
        "    self.side1 = side1\n",
        "    self.side2 = side2\n",
        "\n",
        "class Square(Shapes):   \n",
        "  def area_square(self):\n",
        "    return self.side1*self.side1\n",
        "\n",
        "class Rectangle(Shapes):\n",
        "  def area_rectangle(self):\n",
        "    return self.side1*self.side2\n",
        "\n",
        "square = Square(4,4)\n",
        "rectangle = Rectangle(7,2)\n",
        "\n",
        "print(\"The area of a square is\", square.area_square())\n",
        "print(\"The area of a rectangle is\", rectangle.area_rectangle())"
      ],
      "metadata": {
        "id": "r05sU8U1DgtP"
      },
      "execution_count": null,
      "outputs": []
    },
    {
      "cell_type": "code",
      "source": [
        "class Shapes:\n",
        "  def __init__(self,name,sides):\n",
        "    self.__name = name\n",
        "    self.__sides = sides\n",
        "\n",
        "  def display_triangle(self): \n",
        "      print(f\"The number of sides of {self.__name} is:\", self.__sides) \n",
        "  def display_square(self):\n",
        "      print(f\"The number of sides of {self.__name} is:\", self.__sides) \n",
        "  def display_pentagon(self):\n",
        "      print(f\"The number of sides of {self.__name} is:\", self.__sides) \n",
        "  def display_hexagon(self):\n",
        "      print(f\"The number of sides of {self.__name} is:\", self.__sides)\n",
        "  def display_heptagon(self):\n",
        "      print(f\"The number of sides of {self.__name} is:\", self.__sides) \n",
        "\n",
        "class Triangle(Shapes):\n",
        "  pass \n",
        "class Square(Shapes):\n",
        "  pass  \n",
        "class Pentagon(Shapes):\n",
        "  pass  \n",
        "class Hexagon(Shapes):\n",
        "  pass        \n",
        "class Heptagon(Shapes):\n",
        "  pass\n",
        "\n",
        "triangle = Triangle(\"Triangle\", 3)\n",
        "square = Square(\"Square\", 4)\n",
        "pentagon = Pentagon(\"Pentagon\", 5)\n",
        "hexagon = Hexagon(\"Hexagon\", 6)\n",
        "heptagon = Heptagon(\"Heptagon\", 7)\n",
        "\n",
        "triangle.display_triangle()\n",
        "square.display_square()\n",
        "pentagon.display_pentagon()\n",
        "hexagon.display_hexagon()\n",
        "heptagon.display_heptagon()"
      ],
      "metadata": {
        "colab": {
          "base_uri": "https://localhost:8080/"
        },
        "id": "vtleu7bMBktg",
        "outputId": "248f93b8-81ac-43b6-a24b-227e46af1fbe"
      },
      "execution_count": 3,
      "outputs": [
        {
          "output_type": "stream",
          "name": "stdout",
          "text": [
            "The number of sides of Triangle is: 3\n",
            "The number of sides of Square is: 4\n",
            "The number of sides of Pentagon is: 5\n",
            "The number of sides of Hexagon is: 6\n",
            "The number of sides of Heptagon is: 7\n"
          ]
        }
      ]
    },
    {
      "cell_type": "code",
      "source": [
        "class birds:\n",
        "  def __init__(self,name_birds):\n",
        "    self.name_birds = name_birds\n",
        "\n",
        "  def flying_birds(self):\n",
        "    print(f\"The {self.name_birds} is the flying bird above the sky\")\n",
        "\n",
        "  def non_flying_birds(self):\n",
        "    print(f\"The {self.name_birds} is the non flying bird\")  \n",
        "\n",
        "eagle = birds(\"Eagle\")\n",
        "chicken = birds(\"Chicken\")\n",
        "eagle.flying_birds()\n",
        "chicken.non_flying_birds()"
      ],
      "metadata": {
        "colab": {
          "base_uri": "https://localhost:8080/"
        },
        "id": "rdTPaGmP_ZeR",
        "outputId": "f3bfa3dd-aa37-4146-fe56-a30bb75ecb90"
      },
      "execution_count": 2,
      "outputs": [
        {
          "output_type": "stream",
          "name": "stdout",
          "text": [
            "The Eagle is the flying bird above the sky\n",
            "The Chicken is the non flying bird\n"
          ]
        }
      ]
    }
  ]
}