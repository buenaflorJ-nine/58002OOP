{
  "nbformat": 4,
  "nbformat_minor": 0,
  "metadata": {
    "colab": {
      "provenance": [],
      "authorship_tag": "ABX9TyNLcAq0B8zopvummZOtFLf1",
      "include_colab_link": true
    },
    "kernelspec": {
      "name": "python3",
      "display_name": "Python 3"
    },
    "language_info": {
      "name": "python"
    }
  },
  "cells": [
    {
      "cell_type": "markdown",
      "metadata": {
        "id": "view-in-github",
        "colab_type": "text"
      },
      "source": [
        "<a href=\"https://colab.research.google.com/github/buenaflorJ-nine/58002OOP/blob/main/Hands_On.ipynb\" target=\"_parent\"><img src=\"https://colab.research.google.com/assets/colab-badge.svg\" alt=\"Open In Colab\"/></a>"
      ]
    },
    {
      "cell_type": "markdown",
      "source": [
        "Hands on"
      ],
      "metadata": {
        "id": "Zgq_fbbd-Hz1"
      }
    },
    {
      "cell_type": "markdown",
      "source": [],
      "metadata": {
        "id": "tY615HGi-Xjz"
      }
    },
    {
      "cell_type": "code",
      "execution_count": 47,
      "metadata": {
        "colab": {
          "base_uri": "https://localhost:8080/"
        },
        "id": "GrjndFtu6Fv_",
        "outputId": "c1cf809a-479e-4dd2-85dd-7ebff9df8a53"
      },
      "outputs": [
        {
          "output_type": "stream",
          "name": "stdout",
          "text": [
            "Type your student number\n",
            "3\n",
            "Student no. 3 has an average of: 81.33\n"
          ]
        }
      ],
      "source": [
        "class Person:\n",
        "  def __init__(self,std,pre,mid,fin):\n",
        "    self.__std = std\n",
        "    self.__pre = pre\n",
        "    self.__mid = mid\n",
        "    self.__fin = fin\n",
        "  \n",
        "  def std1_grade(self):\n",
        "      print(f\"Student no. {self.__std} has an average of:\", round((self.__pre + self.__mid +self.__fin)/3,2))  \n",
        "  def std2_grade(self):\n",
        "      print(f\"Student no. {self.__std} has an average of:\", round((self.__pre + self.__mid +self.__fin)/3,2)) \n",
        "  def std3_grade(self):\n",
        "      print(f\"Student no. {self.__std} has an average of:\", round((self.__pre + self.__mid +self.__fin)/3,2))     \n",
        "\n",
        "class Student1(Person):\n",
        "  pass\n",
        "class Student2(Person):\n",
        "  pass\n",
        "class Student3(Person):\n",
        "  pass\n",
        "\n",
        "\n",
        "print(\"Type your student number\")\n",
        "x = int(input())\n",
        "\n",
        "if x==1:\n",
        "  student1 = Student1(1, 89, 90, 79)\n",
        "  student1.std1_grade()\n",
        "\n",
        "elif x==2:\n",
        "  student2 = Student2(2, 78, 88, 97)\n",
        "  student2.std2_grade()\n",
        "\n",
        "elif x==3:\n",
        "  student3 = Student3(3, 87, 87, 70)\n",
        "  student3.std2_grade()"
      ]
    }
  ]
}