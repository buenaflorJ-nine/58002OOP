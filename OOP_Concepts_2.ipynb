{
  "nbformat": 4,
  "nbformat_minor": 0,
  "metadata": {
    "colab": {
      "provenance": [],
      "authorship_tag": "ABX9TyP5ELJrsT8vpU2knHc+s4Ad",
      "include_colab_link": true
    },
    "kernelspec": {
      "name": "python3",
      "display_name": "Python 3"
    },
    "language_info": {
      "name": "python"
    }
  },
  "cells": [
    {
      "cell_type": "markdown",
      "metadata": {
        "id": "view-in-github",
        "colab_type": "text"
      },
      "source": [
        "<a href=\"https://colab.research.google.com/github/buenaflorJ-nine/58002OOP/blob/main/OOP_Concepts_2.ipynb\" target=\"_parent\"><img src=\"https://colab.research.google.com/assets/colab-badge.svg\" alt=\"Open In Colab\"/></a>"
      ]
    },
    {
      "cell_type": "markdown",
      "source": [
        "Classes with multiple objects"
      ],
      "metadata": {
        "id": "COIuCSVq6NmD"
      }
    },
    {
      "cell_type": "code",
      "source": [
        "#Classes with multiple objects\n",
        "class birds:\n",
        "  def __init__(self,name_birds):\n",
        "    self.name_birds = name_birds\n",
        "\n",
        "  def flying_birds(self):\n",
        "    print(f\"The {self.name_birds} is the flying bird above the sky\")\n",
        "\n",
        "  def non_flying_birds(self):\n",
        "    print(f\"The {self.name_birds} is the non flying bird\")  \n",
        "\n",
        "eagle = birds(\"Eagle\")\n",
        "chicken = birds(\"Chicken\")\n",
        "eagle.flying_birds()\n",
        "chicken.non_flying_birds()"
      ],
      "metadata": {
        "colab": {
          "base_uri": "https://localhost:8080/"
        },
        "id": "ZQnWhmG_9Mm5",
        "outputId": "2fd2759c-5548-4721-f4e6-e9e38715655f"
      },
      "execution_count": 9,
      "outputs": [
        {
          "output_type": "stream",
          "name": "stdout",
          "text": [
            "The Eagle is the flying bird\n",
            "The Chicken is the non flying bird\n"
          ]
        }
      ]
    },
    {
      "cell_type": "markdown",
      "source": [
        "Encapsulation"
      ],
      "metadata": {
        "id": "W_9jhEnn_Rhq"
      }
    },
    {
      "cell_type": "code",
      "source": [
        "#Encapsulation\n",
        "class foo:\n",
        "  def __init__(self, a, b):\n",
        "    self.__a=a\n",
        "    self.__b=b\n",
        "  def add(self):\n",
        "    return self.__a+self.__b\n",
        "foo_object = foo(3,4)\n",
        "foo_object.add()\n",
        "foo_object.a = 7\n",
        "foo_object.b = 6\n",
        "foo_object.add()"
      ],
      "metadata": {
        "colab": {
          "base_uri": "https://localhost:8080/"
        },
        "id": "a-LS63MZ6ONq",
        "outputId": "c84a5efc-8e80-491c-a14b-c917011e3832"
      },
      "execution_count": 20,
      "outputs": [
        {
          "output_type": "execute_result",
          "data": {
            "text/plain": [
              "7"
            ]
          },
          "metadata": {},
          "execution_count": 20
        }
      ]
    },
    {
      "cell_type": "markdown",
      "source": [
        "Inheritance"
      ],
      "metadata": {
        "id": "ONAw9xkOAtKs"
      }
    },
    {
      "cell_type": "code",
      "source": [
        "#Inheritance\n",
        "class Person:\n",
        "  def __init__(self,name,birthdate):\n",
        "    self.name = name\n",
        "    self.birthdate = birthdate\n",
        "  def display(self):\n",
        "    print(\"My name is\", self.name)\n",
        "    print(\"My birthday is\", self.birthdate)\n",
        "    \n",
        "class Student(Person):\n",
        "  pass    \n",
        "\n",
        "person = Person(\"J-nine N. Buenaflor\", \"October 21, 2002\")\n",
        "person.display()      \n",
        "\n",
        "student = Student(\"Ana\", \"March 14, 1991\")\n",
        "student.display()"
      ],
      "metadata": {
        "colab": {
          "base_uri": "https://localhost:8080/"
        },
        "id": "hIRmV-Z46Oe6",
        "outputId": "a1843092-66b7-44bf-b8a7-89e74a89e5ac"
      },
      "execution_count": 19,
      "outputs": [
        {
          "output_type": "stream",
          "name": "stdout",
          "text": [
            "My name is J-nine N. Buenaflor\n",
            "My birthday is October 21, 2002\n",
            "My name is Ana\n",
            "My birthday is March 14, 1991\n"
          ]
        }
      ]
    },
    {
      "cell_type": "code",
      "source": [
        "class Shapes:\n",
        "  def __init__(self,name,sides):\n",
        "    self.__name = name\n",
        "    self.__sides = sides\n",
        "\n",
        "    def display_triangle(self): \n",
        "      print(f\"The number of sides of {self.__name} is:\", self.__sides) \n",
        "    def display_square(self):\n",
        "      print(f\"The number of sides of {self.__name} is:\", self.__sides) \n",
        "    def display_pentagon(self):\n",
        "      print(f\"The number of sides of {self.__name} is:\", self.__sides) \n",
        "    def display_hexagon(self):\n",
        "      print(f\"The number of sides of {self.__name} is:\", self.__sides)\n",
        "    def display_heptagon(self):\n",
        "      print(f\"The number of sides of {self.__name} is:\", self.__sides) \n",
        "\n",
        "class Triangle(Shapes):\n",
        "  pass \n",
        "class Square(Shapes):\n",
        "  pass  \n",
        "class Pentagon(Shapes):\n",
        "  pass  \n",
        "class Hexagon(Shapes):\n",
        "  pass        \n",
        "class Heptagon(Shapes):\n",
        "  pass\n",
        "\n",
        "triangle = Triangle(\"Triangle\", 3)\n",
        "square = Square(\"Square\", 4)\n",
        "pentagon = Pentagon(\"Pentagon\", 5)\n",
        "hexagon = Hexagon(\"Hexagon\", 6)\n",
        "heptagon = Heptagon(\"Heptagon\", 7)\n",
        "\n",
        "triangle.display_triangle()\n",
        "square.display_square()\n",
        "pentagon.display_pentagon()\n",
        "hexagon.display_hexagon()\n",
        "heptagon.display_heptagon()\n",
        "\n",
        "\n",
        "\n"
      ],
      "metadata": {
        "colab": {
          "base_uri": "https://localhost:8080/",
          "height": 244
        },
        "id": "DVTCNe58C8c9",
        "outputId": "08483837-8a4c-4bff-ed28-cec53af7662b"
      },
      "execution_count": 46,
      "outputs": [
        {
          "output_type": "error",
          "ename": "AttributeError",
          "evalue": "ignored",
          "traceback": [
            "\u001b[0;31m---------------------------------------------------------------------------\u001b[0m",
            "\u001b[0;31mAttributeError\u001b[0m                            Traceback (most recent call last)",
            "\u001b[0;32m<ipython-input-46-2f0c18598981>\u001b[0m in \u001b[0;36m<module>\u001b[0;34m\u001b[0m\n\u001b[1;32m     32\u001b[0m \u001b[0mheptagon\u001b[0m \u001b[0;34m=\u001b[0m \u001b[0mHeptagon\u001b[0m\u001b[0;34m(\u001b[0m\u001b[0;34m\"Heptagon\"\u001b[0m\u001b[0;34m,\u001b[0m \u001b[0;36m7\u001b[0m\u001b[0;34m)\u001b[0m\u001b[0;34m\u001b[0m\u001b[0;34m\u001b[0m\u001b[0m\n\u001b[1;32m     33\u001b[0m \u001b[0;34m\u001b[0m\u001b[0m\n\u001b[0;32m---> 34\u001b[0;31m \u001b[0mtriangle\u001b[0m\u001b[0;34m.\u001b[0m\u001b[0mdisplay_triangle\u001b[0m\u001b[0;34m(\u001b[0m\u001b[0;34m)\u001b[0m\u001b[0;34m\u001b[0m\u001b[0;34m\u001b[0m\u001b[0m\n\u001b[0m\u001b[1;32m     35\u001b[0m \u001b[0msquare\u001b[0m\u001b[0;34m.\u001b[0m\u001b[0mdisplay_square\u001b[0m\u001b[0;34m(\u001b[0m\u001b[0;34m)\u001b[0m\u001b[0;34m\u001b[0m\u001b[0;34m\u001b[0m\u001b[0m\n\u001b[1;32m     36\u001b[0m \u001b[0mpentagon\u001b[0m\u001b[0;34m.\u001b[0m\u001b[0mdisplay_pentagon\u001b[0m\u001b[0;34m(\u001b[0m\u001b[0;34m)\u001b[0m\u001b[0;34m\u001b[0m\u001b[0;34m\u001b[0m\u001b[0m\n",
            "\u001b[0;31mAttributeError\u001b[0m: 'Triangle' object has no attribute 'display_triangle'"
          ]
        }
      ]
    }
  ]
}