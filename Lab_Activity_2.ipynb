{
  "nbformat": 4,
  "nbformat_minor": 0,
  "metadata": {
    "colab": {
      "provenance": [],
      "authorship_tag": "ABX9TyMZ8QdxW0cWKXawjTnGQoi2",
      "include_colab_link": true
    },
    "kernelspec": {
      "name": "python3",
      "display_name": "Python 3"
    },
    "language_info": {
      "name": "python"
    }
  },
  "cells": [
    {
      "cell_type": "markdown",
      "metadata": {
        "id": "view-in-github",
        "colab_type": "text"
      },
      "source": [
        "<a href=\"https://colab.research.google.com/github/buenaflorJ-nine/58002OOP/blob/main/Lab_Activity_2.ipynb\" target=\"_parent\"><img src=\"https://colab.research.google.com/assets/colab-badge.svg\" alt=\"Open In Colab\"/></a>"
      ]
    },
    {
      "cell_type": "markdown",
      "source": [
        "Lab Activity 2"
      ],
      "metadata": {
        "id": "G6KkjigW6L9E"
      }
    },
    {
      "cell_type": "code",
      "execution_count": 11,
      "metadata": {
        "colab": {
          "base_uri": "https://localhost:8080/"
        },
        "id": "oos6cdLk6I5Z",
        "outputId": "5b8819e5-4b18-4b5a-da1a-2d765e1adcc4"
      },
      "outputs": [
        {
          "output_type": "stream",
          "name": "stdout",
          "text": [
            "The Perimeter of a circle is 25.13\n",
            "The Area of the circle is 50.27\n"
          ]
        }
      ],
      "source": [
        "import math\n",
        "class Circle:\n",
        "  def __init__(self,radius):\n",
        "    self.radius = radius\n",
        "\n",
        "class Perimeter(Circle):\n",
        "  def circle_Perimeter(self):\n",
        "    return 2 * math.pi * self.radius \n",
        "\n",
        "  def Display_Perimeter(self):\n",
        "    print(\"The Perimeter of a circle is\", round(perimeter.circle_Perimeter(),2))\n",
        "\n",
        "class Area(Circle):\n",
        "  def circle_Area(self):\n",
        "    return (self.radius**2) * math.pi\n",
        "\n",
        "  def Display_Area(self):\n",
        "    print(\"The Area of the circle is\", round(area.circle_Area(),2))\n",
        "\n",
        "\n",
        "perimeter = Perimeter(4)\n",
        "area = Area(4)\n",
        "perimeter.Display_Perimeter()\n",
        "area.Display_Area()\n",
        "\n",
        "\n",
        "\n"
      ]
    }
  ]
}