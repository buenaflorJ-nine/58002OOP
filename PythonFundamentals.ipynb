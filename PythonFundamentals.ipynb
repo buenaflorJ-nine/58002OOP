{
  "nbformat": 4,
  "nbformat_minor": 0,
  "metadata": {
    "colab": {
      "provenance": [],
      "authorship_tag": "ABX9TyPk8CNyii2WGrF/s1eqF0D7",
      "include_colab_link": true
    },
    "kernelspec": {
      "name": "python3",
      "display_name": "Python 3"
    },
    "language_info": {
      "name": "python"
    }
  },
  "cells": [
    {
      "cell_type": "markdown",
      "metadata": {
        "id": "view-in-github",
        "colab_type": "text"
      },
      "source": [
        "<a href=\"https://colab.research.google.com/github/buenaflorJ-nine/58002OOP/blob/main/PythonFundamentals.ipynb\" target=\"_parent\"><img src=\"https://colab.research.google.com/assets/colab-badge.svg\" alt=\"Open In Colab\"/></a>"
      ]
    },
    {
      "cell_type": "markdown",
      "source": [
        "Basic print"
      ],
      "metadata": {
        "id": "XAdbI8MJx_Vm"
      }
    },
    {
      "cell_type": "code",
      "execution_count": 4,
      "metadata": {
        "colab": {
          "base_uri": "https://localhost:8080/"
        },
        "id": "ICnWng4SwXAE",
        "outputId": "44d6b9d0-c6fa-4b71-d08f-9e11d3bafb4f"
      },
      "outputs": [
        {
          "output_type": "stream",
          "name": "stdout",
          "text": [
            "Five is greater than two\n"
          ]
        }
      ],
      "source": [
        "if 5>2:\n",
        "  print(\"Five is greater than two\")"
      ]
    },
    {
      "cell_type": "markdown",
      "source": [
        "Phython Comment"
      ],
      "metadata": {
        "id": "vWuX1xC6xpYW"
      }
    },
    {
      "cell_type": "code",
      "source": [
        "#This is a comment\n",
        "print(\"Hello, World\")"
      ],
      "metadata": {
        "colab": {
          "base_uri": "https://localhost:8080/"
        },
        "id": "4tLvM20fx5wv",
        "outputId": "1ccbccf1-5743-4b1a-873a-220b52093724"
      },
      "execution_count": 5,
      "outputs": [
        {
          "output_type": "stream",
          "name": "stdout",
          "text": [
            "Hello, World\n"
          ]
        }
      ]
    },
    {
      "cell_type": "markdown",
      "source": [
        "Naming Variable"
      ],
      "metadata": {
        "id": "wz0LjRP9yPZu"
      }
    },
    {
      "cell_type": "code",
      "source": [
        "#single variable with single value\n",
        "x = 1\n",
        "y = 2\n",
        "print(x)\n",
        "print(y)\n",
        "\n",
        "#Multiple Variavle in a single Value\n",
        "a = b = c = \"J-nine\"\n",
        "print(a)\n",
        "print(b)\n",
        "print(c)\n",
        "\n",
        "#Multiple Variable with Multiple Values\n",
        "e, f, g = 1, 2, 3\n",
        "print(e)\n",
        "print(f)\n",
        "print(g)"
      ],
      "metadata": {
        "colab": {
          "base_uri": "https://localhost:8080/"
        },
        "id": "NoV-MJGuySif",
        "outputId": "b5e68aab-7323-489b-f756-a5db768fcf2e"
      },
      "execution_count": 13,
      "outputs": [
        {
          "output_type": "stream",
          "name": "stdout",
          "text": [
            "1\n",
            "2\n",
            "J-nine\n",
            "J-nine\n",
            "J-nine\n",
            "1\n",
            "2\n",
            "3\n"
          ]
        }
      ]
    },
    {
      "cell_type": "markdown",
      "source": [
        "Single or Double Code"
      ],
      "metadata": {
        "id": "BqJSiIsY0pqH"
      }
    },
    {
      "cell_type": "code",
      "source": [
        "v = \"Sally\"\n",
        "u = 'Sally'\n",
        "print(u)\n",
        "print(v)"
      ],
      "metadata": {
        "colab": {
          "base_uri": "https://localhost:8080/"
        },
        "id": "iNTun95t02mX",
        "outputId": "8cb3e53d-6a30-4837-f8e3-db87c65e5131"
      },
      "execution_count": 15,
      "outputs": [
        {
          "output_type": "stream",
          "name": "stdout",
          "text": [
            "Sally\n",
            "Sally\n"
          ]
        }
      ]
    },
    {
      "cell_type": "markdown",
      "source": [
        "Casting\n"
      ],
      "metadata": {
        "id": "a2bamYUY1E6P"
      }
    },
    {
      "cell_type": "code",
      "source": [
        "q = int(5)\n",
        "p = float(5)\n",
        "print(q)\n",
        "print(p)"
      ],
      "metadata": {
        "colab": {
          "base_uri": "https://localhost:8080/"
        },
        "id": "mGM5qaRr1KA3",
        "outputId": "29ccf8f3-2455-4a52-f836-ba43f65eef47"
      },
      "execution_count": 18,
      "outputs": [
        {
          "output_type": "stream",
          "name": "stdout",
          "text": [
            "5\n",
            "5.0\n"
          ]
        }
      ]
    },
    {
      "cell_type": "markdown",
      "source": [
        "#Type() function \n",
        "(Resizing Text)"
      ],
      "metadata": {
        "id": "xHBxeuY-1jwH"
      }
    },
    {
      "cell_type": "code",
      "source": [
        "\n",
        "f = \"Ana\"\n",
        "print(type(f))\n",
        "\n",
        "g = 5.56\n",
        "print(type(g))"
      ],
      "metadata": {
        "colab": {
          "base_uri": "https://localhost:8080/"
        },
        "id": "0qJhJaDC11I2",
        "outputId": "52a21c88-4bbf-4961-8075-eec173cec539"
      },
      "execution_count": 20,
      "outputs": [
        {
          "output_type": "stream",
          "name": "stdout",
          "text": [
            "<class 'str'>\n",
            "<class 'float'>\n"
          ]
        }
      ]
    },
    {
      "cell_type": "markdown",
      "source": [
        "Concatenation using + symbol"
      ],
      "metadata": {
        "id": "51mttFR-2oh_"
      }
    },
    {
      "cell_type": "code",
      "source": [
        "k = \"fun\"\n",
        "j = \"Python Programming is\"\n",
        "\n",
        "print(\"Python is\" + \" \" + k)\n",
        "print(j + \" \" + k)"
      ],
      "metadata": {
        "colab": {
          "base_uri": "https://localhost:8080/"
        },
        "id": "PJ9Xddum2zLe",
        "outputId": "7a4e172c-fa20-4d42-8670-c4561c343207"
      },
      "execution_count": 27,
      "outputs": [
        {
          "output_type": "stream",
          "name": "stdout",
          "text": [
            "Python is fun\n",
            "Python Programming is fun\n"
          ]
        }
      ]
    }
  ]
}