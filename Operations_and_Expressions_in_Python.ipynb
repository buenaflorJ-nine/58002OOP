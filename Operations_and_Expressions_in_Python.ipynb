{
  "nbformat": 4,
  "nbformat_minor": 0,
  "metadata": {
    "colab": {
      "provenance": [],
      "authorship_tag": "ABX9TyP+4WRXEHAlEzxfuYYB0xid",
      "include_colab_link": true
    },
    "kernelspec": {
      "name": "python3",
      "display_name": "Python 3"
    },
    "language_info": {
      "name": "python"
    }
  },
  "cells": [
    {
      "cell_type": "markdown",
      "metadata": {
        "id": "view-in-github",
        "colab_type": "text"
      },
      "source": [
        "<a href=\"https://colab.research.google.com/github/buenaflorJ-nine/58002OOP/blob/main/Operations_and_Expressions_in_Python.ipynb\" target=\"_parent\"><img src=\"https://colab.research.google.com/assets/colab-badge.svg\" alt=\"Open In Colab\"/></a>"
      ]
    },
    {
      "cell_type": "markdown",
      "source": [
        "Boolean Operators\n"
      ],
      "metadata": {
        "id": "SIZE9PG-zB51"
      }
    },
    {
      "cell_type": "code",
      "source": [
        "# Comparison/Relational, Logical and arithmetic\n",
        "print(10>9)\n",
        "print(10<9)\n",
        "print(10==9)"
      ],
      "metadata": {
        "colab": {
          "base_uri": "https://localhost:8080/"
        },
        "id": "E0jAjTQ-zytd",
        "outputId": "72abb7dd-315b-42da-dfb8-7b134cc7c5cb"
      },
      "execution_count": 3,
      "outputs": [
        {
          "output_type": "stream",
          "name": "stdout",
          "text": [
            "True\n",
            "False\n",
            "False\n"
          ]
        }
      ]
    },
    {
      "cell_type": "code",
      "source": [
        "a = 10 \n",
        "b = 9\n",
        "print(a>b) #The same process and output\n",
        "print(a<b)\n",
        "print(a==b)\n",
        "print(b==b)"
      ],
      "metadata": {
        "colab": {
          "base_uri": "https://localhost:8080/"
        },
        "id": "Hy1XpQm-0VK8",
        "outputId": "b1746f33-9045-4f0e-cc62-7e42db3088fd"
      },
      "execution_count": 5,
      "outputs": [
        {
          "output_type": "stream",
          "name": "stdout",
          "text": [
            "True\n",
            "False\n",
            "False\n",
            "True\n"
          ]
        }
      ]
    },
    {
      "cell_type": "markdown",
      "source": [
        "Bool() function"
      ],
      "metadata": {
        "id": "4DrUCHNa0qQE"
      }
    },
    {
      "cell_type": "code",
      "source": [
        "print(bool(1))\n",
        "print(bool(\"Character\"))\n",
        "print(bool(0))\n",
        "print(bool(None)) # this is like a zero, a null \n",
        "print(bool([])) "
      ],
      "metadata": {
        "colab": {
          "base_uri": "https://localhost:8080/"
        },
        "id": "v09yMhcU087T",
        "outputId": "659bfca4-25db-414e-e56f-b99375af32fb"
      },
      "execution_count": 8,
      "outputs": [
        {
          "output_type": "stream",
          "name": "stdout",
          "text": [
            "True\n",
            "True\n",
            "False\n",
            "False\n",
            "False\n"
          ]
        }
      ]
    },
    {
      "cell_type": "markdown",
      "source": [
        "Function can return a boolean"
      ],
      "metadata": {
        "id": "Z0fiKyAH1gBs"
      }
    },
    {
      "cell_type": "code",
      "source": [
        "def myFunction():\n",
        "  return False\n",
        "print(myFunction())\n"
      ],
      "metadata": {
        "colab": {
          "base_uri": "https://localhost:8080/"
        },
        "id": "czAuunJq2DET",
        "outputId": "067f91ad-e58c-45e2-ad07-16a918042ba9"
      },
      "execution_count": 22,
      "outputs": [
        {
          "output_type": "stream",
          "name": "stdout",
          "text": [
            "False\n"
          ]
        }
      ]
    },
    {
      "cell_type": "code",
      "source": [
        "def myFunction():\n",
        "  return False\n",
        "if myFunction():\n",
        "  print(\"Yes!\")\n",
        "else:\n",
        "  print(\"No!\")"
      ],
      "metadata": {
        "colab": {
          "base_uri": "https://localhost:8080/"
        },
        "id": "VPF8w1992i2b",
        "outputId": "365a6f68-e19a-4962-d2dd-5b0edf5c4525"
      },
      "execution_count": 19,
      "outputs": [
        {
          "output_type": "stream",
          "name": "stdout",
          "text": [
            "No!\n"
          ]
        }
      ]
    },
    {
      "cell_type": "code",
      "source": [
        "print(10>9)\n",
        "a = 6\n",
        "b = 7\n",
        "print(a==b)\n",
        "print(a!=a) #!= This is not equal to"
      ],
      "metadata": {
        "colab": {
          "base_uri": "https://localhost:8080/"
        },
        "id": "mdxSeUr63Yh7",
        "outputId": "3a81ee59-7520-4d39-ed33-844be5be2ed8"
      },
      "execution_count": 23,
      "outputs": [
        {
          "output_type": "stream",
          "name": "stdout",
          "text": [
            "True\n",
            "False\n",
            "False\n"
          ]
        }
      ]
    },
    {
      "cell_type": "markdown",
      "source": [
        "Python Operators"
      ],
      "metadata": {
        "id": "v5vP7X6y3yQB"
      }
    },
    {
      "cell_type": "code",
      "source": [
        "print(10+5)\n",
        "print(10-5)\n",
        "print(10*5)\n",
        "print(10/5)\n",
        "print(10%5)\n",
        "print(10%3)\n",
        "print(10/3)\n",
        "print(10//3) #Floor Division\n",
        "print(10**2) #This is a power rule"
      ],
      "metadata": {
        "colab": {
          "base_uri": "https://localhost:8080/"
        },
        "id": "IwAzwCRJ33Iy",
        "outputId": "4626e35d-4685-4819-ed64-a081f550e212"
      },
      "execution_count": 29,
      "outputs": [
        {
          "output_type": "stream",
          "name": "stdout",
          "text": [
            "15\n",
            "5\n",
            "50\n",
            "2.0\n",
            "0\n",
            "1\n",
            "3.3333333333333335\n",
            "3\n",
            "100\n"
          ]
        }
      ]
    },
    {
      "cell_type": "markdown",
      "source": [
        "Bitwise Operators"
      ],
      "metadata": {
        "id": "CsJcazRF53CC"
      }
    },
    {
      "cell_type": "code",
      "source": [
        "# & | ~ << >>\n",
        "a = 60 \n",
        "b = 13\n",
        "print(a>>2)\n",
        "print(b<<1)\n"
      ],
      "metadata": {
        "colab": {
          "base_uri": "https://localhost:8080/"
        },
        "id": "l49Sy4oz4_GT",
        "outputId": "0862fc69-f52f-474a-ce44-9388d6904903"
      },
      "execution_count": 36,
      "outputs": [
        {
          "output_type": "stream",
          "name": "stdout",
          "text": [
            "15\n",
            "26\n"
          ]
        }
      ]
    },
    {
      "cell_type": "markdown",
      "source": [
        "Python Assignment Operators"
      ],
      "metadata": {
        "id": "kW3edBd798Xi"
      }
    },
    {
      "cell_type": "code",
      "source": [
        "x = 1\n",
        "x+=3 #As x = x + 3, you \n",
        "print(x)\n",
        "x = 1 #This resets the value of x\n",
        "x-=3\n",
        "print(x)"
      ],
      "metadata": {
        "colab": {
          "base_uri": "https://localhost:8080/"
        },
        "id": "k_fI4QCa9_Sp",
        "outputId": "18c00c0e-779e-4d48-c80f-5c367a3fa0bc"
      },
      "execution_count": 47,
      "outputs": [
        {
          "output_type": "stream",
          "name": "stdout",
          "text": [
            "4\n",
            "-2\n"
          ]
        }
      ]
    },
    {
      "cell_type": "code",
      "source": [
        "print(x) #This remember from the last cell that you run (if you haven't run this yet)"
      ],
      "metadata": {
        "colab": {
          "base_uri": "https://localhost:8080/"
        },
        "id": "H2uP1taEBBxT",
        "outputId": "df7260ba-e145-488f-aba3-03c46722bf11"
      },
      "execution_count": 48,
      "outputs": [
        {
          "output_type": "stream",
          "name": "stdout",
          "text": [
            "-2\n"
          ]
        }
      ]
    },
    {
      "cell_type": "markdown",
      "source": [
        "Logical Operators"
      ],
      "metadata": {
        "id": "A6FX180s_eG7"
      }
    },
    {
      "cell_type": "code",
      "source": [
        "x = True\n",
        "y = True\n",
        "\n",
        "print(x and y)\n",
        "print(x or y)\n",
        "print(not(x or y))"
      ],
      "metadata": {
        "colab": {
          "base_uri": "https://localhost:8080/"
        },
        "id": "9osYPNcn_ggk",
        "outputId": "efb85792-7841-4300-b228-bc54a299c490"
      },
      "execution_count": 49,
      "outputs": [
        {
          "output_type": "stream",
          "name": "stdout",
          "text": [
            "True\n",
            "True\n",
            "False\n"
          ]
        }
      ]
    },
    {
      "cell_type": "markdown",
      "source": [
        "Identity Operators"
      ],
      "metadata": {
        "id": "dyiMY8BJBFiB"
      }
    },
    {
      "cell_type": "code",
      "source": [
        "print(x is y)\n",
        "print(x is not y)"
      ],
      "metadata": {
        "colab": {
          "base_uri": "https://localhost:8080/"
        },
        "id": "Y3ON1DLfBJrz",
        "outputId": "e1b7f2b5-df6a-451b-fed9-e5958f12c71d"
      },
      "execution_count": 51,
      "outputs": [
        {
          "output_type": "stream",
          "name": "stdout",
          "text": [
            "True\n",
            "False\n"
          ]
        }
      ]
    },
    {
      "cell_type": "markdown",
      "source": [
        "Application 1\n",
        "Create an arithmetic calculator (MDAS)"
      ],
      "metadata": {
        "id": "U83I-93iByJj"
      }
    },
    {
      "cell_type": "code",
      "source": [
        "print(\"-------------------\")\n",
        "print(\"Choose operator\")\n",
        "print(\"1 for +\")\n",
        "print(\"2 for -\")\n",
        "print(\"3 for *\")\n",
        "print(\"4 for /\")\n",
        "print(\"-------------------\")\n",
        "b = input()\n",
        "print(\"Choose your First number\")\n",
        "a = int(input())\n",
        "print(\"Choose your Second number\")\n",
        "c = int(input())\n",
        "\n",
        "if b == '1':\n",
        "  print(\"= \", a+c)\n",
        "\n",
        "if b == '2':\n",
        "  print(\"= \", a-c)\n",
        "\n",
        "if b == '3':\n",
        "  print(\"= \", a*c)\n",
        "\n",
        "if b == '4':\n",
        "  print(\"= \", a/c)\n",
        "\n",
        "if b >= '5':\n",
        "  print(\"Error\")\n",
        "  print(\"Choose only 1 to 4\")\n",
        "\n",
        "\n",
        "\n",
        "\n",
        "\n",
        "\n",
        "\n"
      ],
      "metadata": {
        "colab": {
          "base_uri": "https://localhost:8080/"
        },
        "id": "k4JWpgF3CBYa",
        "outputId": "00ce92f7-55ed-4338-f110-8475914fa166"
      },
      "execution_count": 93,
      "outputs": [
        {
          "output_type": "stream",
          "name": "stdout",
          "text": [
            "-------------------\n",
            "Choose operator\n",
            "1 for +\n",
            "2 for -\n",
            "3 for *\n",
            "4 for /\n",
            "-------------------\n",
            "5\n",
            "Choose your First number\n",
            "1\n",
            "Choose your Second number\n",
            "2\n",
            "Error\n",
            "Choose only 1 to 4\n"
          ]
        }
      ]
    }
  ]
}