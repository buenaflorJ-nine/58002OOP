{
  "nbformat": 4,
  "nbformat_minor": 0,
  "metadata": {
    "colab": {
      "provenance": [],
      "authorship_tag": "ABX9TyNpzKY4ceU8edqgt65uxvyJ",
      "include_colab_link": true
    },
    "kernelspec": {
      "name": "python3",
      "display_name": "Python 3"
    },
    "language_info": {
      "name": "python"
    }
  },
  "cells": [
    {
      "cell_type": "markdown",
      "metadata": {
        "id": "view-in-github",
        "colab_type": "text"
      },
      "source": [
        "<a href=\"https://colab.research.google.com/github/buenaflorJ-nine/58002OOP/blob/main/Control_Structure.ipynb\" target=\"_parent\"><img src=\"https://colab.research.google.com/assets/colab-badge.svg\" alt=\"Open In Colab\"/></a>"
      ]
    },
    {
      "cell_type": "code",
      "source": [
        "#If Statement\n",
        "a = 100\n",
        "b = 50\n",
        "if a>b:\n",
        "  print(\"a is greater than b\")"
      ],
      "metadata": {
        "colab": {
          "base_uri": "https://localhost:8080/"
        },
        "id": "CPRv7nTGk3A6",
        "outputId": "8530593a-730d-4022-c455-577de53e8b6b"
      },
      "execution_count": 11,
      "outputs": [
        {
          "output_type": "stream",
          "name": "stdout",
          "text": [
            "a is greater than b\n"
          ]
        }
      ]
    },
    {
      "cell_type": "code",
      "source": [
        "#Elif Statement\n",
        "a = 50\n",
        "b = 50\n",
        "if a>b:\n",
        "  print(\"a is greater than b\")\n",
        "elif a<b:\n",
        "  print(\"a is less than b\")  \n",
        "else:\n",
        "  print(\"a is equal to b\")  "
      ],
      "metadata": {
        "colab": {
          "base_uri": "https://localhost:8080/"
        },
        "id": "L0V18tNflQMx",
        "outputId": "9677a46b-643b-427e-f3a5-21b5f2ebc449"
      },
      "execution_count": 12,
      "outputs": [
        {
          "output_type": "stream",
          "name": "stdout",
          "text": [
            "a is equal to b\n"
          ]
        }
      ]
    },
    {
      "cell_type": "markdown",
      "source": [
        "Short Hand if..."
      ],
      "metadata": {
        "id": "vDVgdFbBmO3K"
      }
    },
    {
      "cell_type": "code",
      "source": [
        "#Short hand if\n",
        "if a==b: print(\"a is equal to b\")\n"
      ],
      "metadata": {
        "colab": {
          "base_uri": "https://localhost:8080/"
        },
        "id": "km1Dmkxjlrlh",
        "outputId": "254cfe97-92eb-4f6e-ce58-0dc5f9942331"
      },
      "execution_count": 13,
      "outputs": [
        {
          "output_type": "stream",
          "name": "stdout",
          "text": [
            "a is equal to b\n"
          ]
        }
      ]
    },
    {
      "cell_type": "markdown",
      "source": [
        "Short Hand If... Else"
      ],
      "metadata": {
        "id": "K0-It2BylOpR"
      }
    },
    {
      "cell_type": "code",
      "source": [
        "print(\"a is greater than b\") if a>b else print(\"a is less than b\")"
      ],
      "metadata": {
        "colab": {
          "base_uri": "https://localhost:8080/"
        },
        "id": "4tbTRPe7mlrw",
        "outputId": "d80ce085-68c8-4dcc-a97c-31c74c0154f4"
      },
      "execution_count": 14,
      "outputs": [
        {
          "output_type": "stream",
          "name": "stdout",
          "text": [
            "a is less than b\n"
          ]
        }
      ]
    },
    {
      "cell_type": "markdown",
      "source": [
        "And condition"
      ],
      "metadata": {
        "id": "IW-Pq9pjm-ly"
      }
    },
    {
      "cell_type": "code",
      "source": [
        "a = 200\n",
        "b = 33\n",
        "c = 500\n",
        "if a > b or a > c:\n",
        "  print(\"At least one of the conditions are true\")\n",
        "\n",
        "s = 75\n",
        "t = 70\n",
        "if s>t and t<s: #Both conditions should be true\n",
        "  print(\"s > t and t < s\")"
      ],
      "metadata": {
        "colab": {
          "base_uri": "https://localhost:8080/"
        },
        "id": "h8Esu78ukiwJ",
        "outputId": "8bf75d4d-9e1e-40fe-e014-08873ca815c3"
      },
      "execution_count": 16,
      "outputs": [
        {
          "output_type": "stream",
          "name": "stdout",
          "text": [
            "At least one of the conditions are true\n",
            "s > t and t < s\n"
          ]
        }
      ]
    },
    {
      "cell_type": "markdown",
      "source": [
        "Or condition"
      ],
      "metadata": {
        "id": "fX1UwyguoAMK"
      }
    },
    {
      "cell_type": "code",
      "source": [
        "print(\"s is greater than t and t<s\")"
      ],
      "metadata": {
        "colab": {
          "base_uri": "https://localhost:8080/"
        },
        "id": "au9z0Q7HoHkB",
        "outputId": "3d935ee9-d064-472d-d796-586611c9d64b"
      },
      "execution_count": 17,
      "outputs": [
        {
          "output_type": "stream",
          "name": "stdout",
          "text": [
            "s is greater than t and t<s\n"
          ]
        }
      ]
    },
    {
      "cell_type": "markdown",
      "source": [
        "Nested if"
      ],
      "metadata": {
        "id": "GS8qOUoioVd6"
      }
    },
    {
      "cell_type": "code",
      "source": [
        "x = float(input()) #Float can include decimals\n",
        "if x>10:\n",
        "  print(\"Above 10\")\n",
        "  if x>20:\n",
        "    print(\"Above 20\")\n",
        "    if x>30:\n",
        "      print(\"Above 30\")  \n",
        "      if x>40:\n",
        "        print(\"Above 40\")  \n",
        "        if x>50:\n",
        "          print(\"Above 50\")\n",
        "        else:\n",
        "          print(\"below 50\")     \n",
        "      else:\n",
        "        print(\"below 40\") \n",
        "    else:\n",
        "      print(\"below 30\") \n",
        "  else:\n",
        "    print(\"below 20\")   \n",
        "else:\n",
        "  print(\"below 10.\")  \n"
      ],
      "metadata": {
        "colab": {
          "base_uri": "https://localhost:8080/"
        },
        "id": "q730V90KoWkZ",
        "outputId": "6ee1e3c5-08a2-4ca5-aa25-86e07ce83b05"
      },
      "execution_count": 26,
      "outputs": [
        {
          "output_type": "stream",
          "name": "stdout",
          "text": [
            "49.9\n",
            "Above 10\n",
            "Above 20\n",
            "Above 30\n",
            "Above 40\n",
            "below 50\n"
          ]
        }
      ]
    },
    {
      "cell_type": "markdown",
      "source": [
        "Example 1\n",
        "\n"
      ],
      "metadata": {
        "id": "rjerkNjctkeg"
      }
    },
    {
      "cell_type": "code",
      "source": [
        "x = int(input())\n",
        "if x>=18:\n",
        "  print(\"The person is qualified to vote\")\n",
        "  if x<18:\n",
        "    print(\"The person is not qualified to vote\")\n",
        "elif x<=0:\n",
        "  print(\"Please type your legal age\")"
      ],
      "metadata": {
        "colab": {
          "base_uri": "https://localhost:8080/"
        },
        "id": "Age2dH5UsrpC",
        "outputId": "8b057d08-e303-445b-a2fb-7b82969c1d56"
      },
      "execution_count": 34,
      "outputs": [
        {
          "output_type": "stream",
          "name": "stdout",
          "text": [
            "-1\n",
            "Please type your legal age\n"
          ]
        }
      ]
    },
    {
      "cell_type": "markdown",
      "source": [
        "Example 2"
      ],
      "metadata": {
        "id": "_uUABT50toxB"
      }
    },
    {
      "cell_type": "code",
      "source": [
        "x = int(input())\n",
        "if x>0:\n",
        "  print(\"The number is positive\")\n",
        "elif x<0:\n",
        "    print(\"The number is Negative\")\n",
        "else:\n",
        "  print(\"The number is zero\")    \n"
      ],
      "metadata": {
        "colab": {
          "base_uri": "https://localhost:8080/"
        },
        "id": "cJ-wL5z0thJK",
        "outputId": "ed0700c9-1f59-48f9-f984-0a264a6c914e"
      },
      "execution_count": 43,
      "outputs": [
        {
          "output_type": "stream",
          "name": "stdout",
          "text": [
            "-12\n",
            "The number is Negative\n"
          ]
        }
      ]
    },
    {
      "cell_type": "markdown",
      "source": [
        "Example 3"
      ],
      "metadata": {
        "id": "bfp1GFH7tqFB"
      }
    },
    {
      "cell_type": "code",
      "source": [],
      "metadata": {
        "id": "jNbK_F8EtNtC"
      },
      "execution_count": null,
      "outputs": []
    },
    {
      "cell_type": "markdown",
      "source": [
        "Notes:"
      ],
      "metadata": {
        "id": "Tx2BDgjTlL-Q"
      }
    },
    {
      "cell_type": "markdown",
      "source": [
        "If statement\n",
        "Elif \n"
      ],
      "metadata": {
        "id": "7KIPuugli0Ib"
      }
    },
    {
      "cell_type": "code",
      "execution_count": 2,
      "metadata": {
        "colab": {
          "base_uri": "https://localhost:8080/"
        },
        "id": "SVJdTW24iy4S",
        "outputId": "533cfe1f-9de5-4edc-b832-ce6533f4361c"
      },
      "outputs": [
        {
          "output_type": "stream",
          "name": "stdout",
          "text": [
            "a and b are equal\n"
          ]
        }
      ],
      "source": [
        "a = 12\n",
        "b = 12\n",
        "if b>a:\n",
        "  print(\"b is greater than a\")\n",
        "elif a==b:\n",
        "  print(\"a and b are equal\")\n",
        "else:\n",
        "  print(\"a is greater than b\")"
      ]
    },
    {
      "cell_type": "code",
      "source": [
        "a = 200\n",
        "b = 33\n",
        "if b>a:\n",
        "  print(\"b is greater than a\")\n",
        "elif a==b:\n",
        "  print(\"a and b are equal\")\n",
        "else:\n",
        "  print(\"a is greater than b\")\n"
      ],
      "metadata": {
        "colab": {
          "base_uri": "https://localhost:8080/"
        },
        "id": "oFl269S5kOeR",
        "outputId": "291b957e-07cc-45e9-cffa-3a26923f690d"
      },
      "execution_count": 3,
      "outputs": [
        {
          "output_type": "stream",
          "name": "stdout",
          "text": [
            "a is greater than b\n"
          ]
        }
      ]
    }
  ]
}