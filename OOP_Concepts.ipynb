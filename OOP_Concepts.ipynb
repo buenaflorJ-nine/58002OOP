{
  "nbformat": 4,
  "nbformat_minor": 0,
  "metadata": {
    "colab": {
      "provenance": [],
      "authorship_tag": "ABX9TyOZovSuUv5+pioW58UMpWFG",
      "include_colab_link": true
    },
    "kernelspec": {
      "name": "python3",
      "display_name": "Python 3"
    },
    "language_info": {
      "name": "python"
    }
  },
  "cells": [
    {
      "cell_type": "markdown",
      "metadata": {
        "id": "view-in-github",
        "colab_type": "text"
      },
      "source": [
        "<a href=\"https://colab.research.google.com/github/buenaflorJ-nine/58002OOP/blob/main/OOP_Concepts.ipynb\" target=\"_parent\"><img src=\"https://colab.research.google.com/assets/colab-badge.svg\" alt=\"Open In Colab\"/></a>"
      ]
    },
    {
      "cell_type": "markdown",
      "source": [
        "Concepts"
      ],
      "metadata": {
        "id": "j5FA-wDst-aZ"
      }
    },
    {
      "cell_type": "code",
      "execution_count": 3,
      "metadata": {
        "id": "S1JLZP96r4h9",
        "colab": {
          "base_uri": "https://localhost:8080/"
        },
        "outputId": "013f8de3-e659-4592-fed1-d93e8ef03263"
      },
      "outputs": [
        {
          "output_type": "stream",
          "name": "stdout",
          "text": [
            "4\n"
          ]
        }
      ],
      "source": [
        "#Creation of class\n",
        "class myClass:    #Name of class\n",
        "  y = 4           #Property name\n",
        "\n",
        "p1=myClass()      #Create an object named p1  \n",
        "print(p1.y)       #print tha value of y  "
      ]
    },
    {
      "cell_type": "code",
      "source": [
        "class myclass:\n",
        "  pass"
      ],
      "metadata": {
        "id": "xwOpvO0ux4JD"
      },
      "execution_count": 11,
      "outputs": []
    },
    {
      "cell_type": "code",
      "source": [
        "#Creation of Method\n",
        "\n",
        "class Persons:\n",
        "  def __init__(self,name):\n",
        "    self.name = name\n",
        "    #self.age = age\n",
        "\n",
        "  def myfunction(self):\n",
        "    print(\"Hello, my name is\", self.name)\n",
        "\n",
        "teacher = Persons(\"Maria\")      \n",
        "teacher.myfunction()\n"
      ],
      "metadata": {
        "colab": {
          "base_uri": "https://localhost:8080/"
        },
        "id": "tCgMbmmYyC1j",
        "outputId": "4f1024df-7356-44a9-a716-dac8d72304ea"
      },
      "execution_count": 23,
      "outputs": [
        {
          "output_type": "stream",
          "name": "stdout",
          "text": [
            "Hello, my name is Maria\n"
          ]
        }
      ]
    },
    {
      "cell_type": "code",
      "source": [
        "#Modification of Object Properties\n",
        "teacher.name = \"Ana\"\n",
        "teacher.myfunction()"
      ],
      "metadata": {
        "colab": {
          "base_uri": "https://localhost:8080/"
        },
        "id": "V-pDii3lzwjJ",
        "outputId": "2fe85329-c1c8-44ff-826c-b36422eab8b5"
      },
      "execution_count": 24,
      "outputs": [
        {
          "output_type": "stream",
          "name": "stdout",
          "text": [
            "Hello, my name is Ana\n"
          ]
        }
      ]
    },
    {
      "cell_type": "code",
      "source": [
        "#Deletion of Object\n",
        "print(teacher.name)"
      ],
      "metadata": {
        "colab": {
          "base_uri": "https://localhost:8080/"
        },
        "id": "oHRktyU30FT_",
        "outputId": "aebef3f2-13cd-415d-aaf7-198e06af12f7"
      },
      "execution_count": 26,
      "outputs": [
        {
          "output_type": "stream",
          "name": "stdout",
          "text": [
            "Ana\n"
          ]
        }
      ]
    },
    {
      "cell_type": "code",
      "source": [
        "class Shapes:\n",
        "  def __init__(self,side1,side2):\n",
        "    self.side1 = side1\n",
        "    self.side2 = side2\n",
        "\n",
        "  def area_square(self):\n",
        "    return self.side1*self.side1\n",
        "\n",
        "  def area_rectangle(self):\n",
        "    return self.side1*self.side2\n",
        "\n",
        "  def display_square(self):\n",
        "      print(\"The area of a square is\", self.area_square())\n",
        "\n",
        "  def display_rectangle(self):    \n",
        "      print(\"The area of a rectangle is\", self.area_rectangle())\n",
        "#I do believe that this can still be simplified      \n",
        "\n",
        "square = Shapes(5,5) #The 1st should be the \"class\" and I have ridiculous Ideas for programming\n",
        "rectangle = Shapes(10,5)\n",
        "square.display_square()\n",
        "rectangle.display_rectangle()"
      ],
      "metadata": {
        "colab": {
          "base_uri": "https://localhost:8080/"
        },
        "id": "rPNGZvtm03pg",
        "outputId": "cb27e1c4-463e-4f2e-969f-7b37d14ff2ac"
      },
      "execution_count": 52,
      "outputs": [
        {
          "output_type": "stream",
          "name": "stdout",
          "text": [
            "The area of a square is 25\n",
            "The area of a rectangle is 50\n"
          ]
        }
      ]
    },
    {
      "cell_type": "code",
      "source": [
        "#Inheritance\n",
        "\n",
        "class Shapes:\n",
        "  def __init__(self,side1,side2):\n",
        "    self.side1 = side1\n",
        "    self.side2 = side2\n",
        "\n",
        "class Square(Shapes):   \n",
        "  def area_square(self):\n",
        "    return self.side1*self.side1\n",
        "\n",
        "class Rectangle(Shapes):\n",
        "  def area_rectangle(self):\n",
        "    return self.side1*self.side2\n",
        "\n",
        "square = Square(4,4)\n",
        "rectangle = Rectangle(7,2)\n",
        "\n",
        "print(\"The area of a square is\", square.area_square())\n",
        "print(\"The area of a rectangle is\", rectangle.area_rectangle())"
      ],
      "metadata": {
        "colab": {
          "base_uri": "https://localhost:8080/"
        },
        "id": "yF3xz99d7j55",
        "outputId": "a73ccbf3-e28f-4310-aa62-fd2b22bf104a"
      },
      "execution_count": 75,
      "outputs": [
        {
          "output_type": "stream",
          "name": "stdout",
          "text": [
            "The area of a square is 16\n",
            "The area of a rectangle is 14\n"
          ]
        }
      ]
    },
    {
      "cell_type": "markdown",
      "source": [
        "Create you own Python program that has the following\n",
        "\n",
        "\n"
      ],
      "metadata": {
        "id": "snEIK77KwBHG"
      }
    },
    {
      "cell_type": "code",
      "source": [
        "#Person as class name\n",
        "#Fullname, age, and school as attributes\n",
        "#Identity() to display your fullname, age, and school\n",
        "#person as object name\n",
        "\n",
        "class Person:\n",
        "  def __init__(self,fullname,age,school):\n",
        "    self.fullname = fullname\n",
        "    self.age = age\n",
        "    self.school = school\n",
        "\n",
        "  def Identity(self):\n",
        "    print(\"Fullname:\",self.fullname)\n",
        "    print(\"Age:\",self.age)\n",
        "    print(\"School:\",self.school)\n",
        "    \n",
        "person = Person(\"J-nine N. Buenaflor\", 20, \"Adamson university\")\n",
        "person.Identity()"
      ],
      "metadata": {
        "colab": {
          "base_uri": "https://localhost:8080/"
        },
        "id": "Tu4HTvtDwAlw",
        "outputId": "98283172-7c41-4997-b2a9-5874df9aea7f"
      },
      "execution_count": 108,
      "outputs": [
        {
          "output_type": "stream",
          "name": "stdout",
          "text": [
            "Fullname: J-nine N. Buenaflor\n",
            "Age: 20\n",
            "School: Adamson university\n"
          ]
        }
      ]
    }
  ]
}