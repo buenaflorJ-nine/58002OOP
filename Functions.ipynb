{
  "nbformat": 4,
  "nbformat_minor": 0,
  "metadata": {
    "colab": {
      "provenance": [],
      "authorship_tag": "ABX9TyMRy4mnENT2EjnN8orBw2GL",
      "include_colab_link": true
    },
    "kernelspec": {
      "name": "python3",
      "display_name": "Python 3"
    },
    "language_info": {
      "name": "python"
    }
  },
  "cells": [
    {
      "cell_type": "markdown",
      "metadata": {
        "id": "view-in-github",
        "colab_type": "text"
      },
      "source": [
        "<a href=\"https://colab.research.google.com/github/buenaflorJ-nine/58002OOP/blob/main/Functions.ipynb\" target=\"_parent\"><img src=\"https://colab.research.google.com/assets/colab-badge.svg\" alt=\"Open In Colab\"/></a>"
      ]
    },
    {
      "cell_type": "markdown",
      "source": [
        "Functions"
      ],
      "metadata": {
        "id": "ep5hfR_byjdE"
      }
    },
    {
      "cell_type": "code",
      "execution_count": 9,
      "metadata": {
        "colab": {
          "base_uri": "https://localhost:8080/"
        },
        "id": "yXGcqTXnyiPk",
        "outputId": "e9356dcd-c6a5-4ecc-9c0c-b76c1b13ff9f"
      },
      "outputs": [
        {
          "output_type": "execute_result",
          "data": {
            "text/plain": [
              "50"
            ]
          },
          "metadata": {},
          "execution_count": 9
        }
      ],
      "source": [
        "class Shape:\n",
        "  def __init__(self, length, width):\n",
        "    self.length = length\n",
        "    self.width = width\n",
        "    #self.side = side\n",
        "\n",
        "  def area_rec(self):\n",
        "    return self.length * self.width\n",
        "  #def area_sqr(self):\n",
        "    #return self.side * self.side\n",
        "\n",
        "rectangle = Shape(10, 5)\n",
        "rectangle.area_rec()\n"
      ]
    },
    {
      "cell_type": "markdown",
      "source": [
        "Create a function that will display your full name and name your class as a person"
      ],
      "metadata": {
        "id": "rMyi7yLo3YEH"
      }
    },
    {
      "cell_type": "code",
      "source": [
        "class Person:\n",
        "  def __init__(self, name):\n",
        "    self.name = name\n",
        "\n",
        "  def Hello(self):\n",
        "    print(self.name)\n",
        "\n",
        "p = Person('J-nine N. Buenaflor')\n",
        "p.Hello()"
      ],
      "metadata": {
        "colab": {
          "base_uri": "https://localhost:8080/"
        },
        "id": "xvLrbgUZ3jXH",
        "outputId": "5b80f1c2-f98d-476a-afb1-1a174be28f1d"
      },
      "execution_count": 21,
      "outputs": [
        {
          "output_type": "stream",
          "name": "stdout",
          "text": [
            "J-nine N. Buenaflor\n"
          ]
        }
      ]
    }
  ]
}